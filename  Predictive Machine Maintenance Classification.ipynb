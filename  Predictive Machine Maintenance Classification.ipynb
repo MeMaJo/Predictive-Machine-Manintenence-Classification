{
 "cells": [
  {
   "cell_type": "markdown",
   "id": "60fdf5b8",
   "metadata": {},
   "source": [
    "## Predictive Machine Maintenance & Classification\n",
    "\n",
    "#### Overview\n",
    "\n",
    "The \"Machine Predictive Maintenance & Classification\" project focuses on developing a predictive model to classify the operational status(Failure or Not) and the type of failure of industrial machines. Utilizing the data set mentioned below, this project aims to harness the power of machine learning to anticipate machine failures, thus enabling proactive maintenance and minimizing unexpected downtimes\n",
    "\n",
    "#### Goals\n",
    "\n",
    "1. Classify Machine Status : Predict whether a machine likely to function normally or is it likely to fail in the near future\n",
    "2. Identify Failure Types : Determine the specific type of failure that the machine might encounter\n",
    "\n",
    "#### Learning Algorithm\n",
    "\n",
    "Since the goal is to predict two outcomes, i.e. Target (failure or not) and Failure Type, we will implement a **Multi-Output Classifier** to predict the two key aspects. We will base the predictive model on **Random Forest** algorithm, for its ability to handle complex datasets with multiple features and classes effectively. \n",
    "\n",
    "#### Expected Objective\n",
    "\n",
    "By employing advanced machine learning techniques like multi-output classification with Random Forest, the project aims to achieve high accuracy in predicting machine failures. This capability allows for proactive maintenance scheduling, minimizing unplanned downtime and associated costs"
   ]
  },
  {
   "cell_type": "code",
   "execution_count": 552,
   "id": "449c04bf",
   "metadata": {},
   "outputs": [],
   "source": [
    "import numpy as np\n",
    "import pandas as pd\n",
    "import matplotlib.pyplot as plt\n",
    "import seaborn as sns\n",
    "import warnings\n",
    "from sklearn.model_selection import train_test_split\n",
    "from sklearn.multioutput import MultiOutputClassifier\n",
    "from sklearn.ensemble import RandomForestClassifier\n",
    "from sklearn.metrics import accuracy_score, classification_report\n",
    "from sklearn.metrics import confusion_matrix"
   ]
  },
  {
   "cell_type": "code",
   "execution_count": 553,
   "id": "101ac605",
   "metadata": {},
   "outputs": [],
   "source": [
    "# Function To Load Data\n",
    "\n",
    "def load_data(filename):\n",
    "    print(\"Data Info\\n\")\n",
    "    df=pd.read_csv(filename)\n",
    "    print(df.info())\n",
    "    return df\n"
   ]
  },
  {
   "cell_type": "code",
   "execution_count": 554,
   "id": "5c11b238",
   "metadata": {},
   "outputs": [],
   "source": [
    "# Function to check & preprocess data\n",
    "\n",
    "def check_preprocess(filename,dataframe):\n",
    "    \n",
    "    df = check_data(dataframe)\n",
    "    dfp=preprocess(df)\n",
    "    \n",
    "    return dfp"
   ]
  },
  {
   "cell_type": "code",
   "execution_count": 555,
   "id": "5999ff8e",
   "metadata": {},
   "outputs": [],
   "source": [
    "# Function to check for missing data. If missing data is found, drop rows with missing column values\n",
    "\n",
    "def check_data(df):\n",
    "    print(\"\\n\")\n",
    "    print(\"Checking for missing data...\")\n",
    "    missing_data = df.isnull().sum()\n",
    "    if missing_data.any():\n",
    "        print(\"Missing data found:\\n\", missing_data[missing_data > 0])\n",
    "        return df.dropna()\n",
    "    else:\n",
    "        print(\"No missing data \\n\")\n",
    "        return df\n",
    "    "
   ]
  },
  {
   "cell_type": "code",
   "execution_count": 556,
   "id": "b9fb9426",
   "metadata": {},
   "outputs": [],
   "source": [
    "#Function to drop 'Product ID' and 'UID'\n",
    "\n",
    "def preprocess(df):\n",
    "    if 'Product ID' in df.columns:\n",
    "        print(\"Droping ProductID...\")\n",
    "        df = df.drop(['Product ID'], axis=1)\n",
    "    \n",
    "    if 'UDI' in df.columns:\n",
    "        print(\"Droping UDI...\\n\")\n",
    "        df = df.drop(['UDI'], axis=1)\n",
    "    \n",
    "    #Rename columns to be shorter\n",
    "    df = df.rename(mapper={'Air temperature [K]': 'Air Temperature',\n",
    "                       'Process temperature [K]': 'Process Temperature',\n",
    "                       'Rotational speed [rpm]': 'Rotational Speed',\n",
    "                       'Torque [Nm]': 'Torque', \n",
    "                       'Tool wear [min]': 'Tool Wear'}, axis=1)\n",
    "    \n",
    "    print(\"Data info after initial cleaning\\n\")\n",
    "    print(df.info())\n",
    "    return df"
   ]
  },
  {
   "cell_type": "code",
   "execution_count": 572,
   "id": "f829d9a9",
   "metadata": {},
   "outputs": [],
   "source": [
    "# Function for EDA\n",
    "\n",
    "def eda(df):\n",
    "    # Visualize 'Type' data distribution\n",
    "    plt.subplot(2,1,1) \n",
    "    ax=df['Type'].value_counts().plot.pie(explode=[0.1, 0.1,0.1],autopct='%1.2f%%',shadow=True,\n",
    "                                         colors=[\"#A0937D\", \"#3282B8\", \"#75A47F\"],\n",
    "                                         wedgeprops={'linewidth': 3.0, 'edgecolor': 'black'});\n",
    "    ax.set_title(label = \"\\nData Distribution for 'Type'\", fontsize = 20,color='#45474B',font='Times New Roman');\n",
    "        \n",
    "    \n",
    "    \n",
    "    # Visualize 'Failure Type' data distribution\n",
    "    plt.subplot(2,1,2)    \n",
    "    ax= df['Failure Type'].value_counts().plot(kind='barh',figsize=(10,8), color=\"#254336\")\n",
    "    ax.set_title(label = \"\\nData Distribution for 'Failure Type'\"\n",
    "                 , fontsize = 20,color='#45474B',font='Times New Roman');\n",
    "    ax.bar_label(ax.containers[0]) \n",
    "    \n",
    "    \n",
    "    \n",
    "    #Failures Based on Product Type\n",
    "    print(\"\\nFailures For Each Product Type (0 : No Failure, 1: Failure)\")\n",
    "    for i in ['L', 'M', 'H']:\n",
    "        df_product_type = df[df['Type'] == i]\n",
    "        print(\"\\nFor Product Type \",i)\n",
    "        print(df_product_type['Target'].value_counts())\n",
    "        \n",
    "    \n",
    "    \n",
    "    #Analysis on numerical columns in the dataset\n",
    "    plt.figure(figsize=(10, 8))\n",
    "    numerical_columns = df.select_dtypes(include=[\"float\", \"int\"]).columns\n",
    "\n",
    "    for i, col in enumerate(numerical_columns, 1):\n",
    "        plt.subplot(2, 3, i)\n",
    "        p = sns.histplot(df[col], kde=True, color='#A0937D', edgecolor='black' )\n",
    "        p.lines[0].set_color('crimson')\n",
    "        plt.title(f'Distribution of {col}')\n",
    "\n",
    "    plt.tight_layout()\n",
    "    plt.show()\n",
    "\n",
    "\n",
    "    #Correlation Matrix\n",
    "    plt.figure(figsize=(6,6))\n",
    "    sns.heatmap(df.corr(), annot=True, cmap='coolwarm')\n",
    "    plt.title('\\nCorrelation Matrix', fontsize = 20,color='#45474B',font='Times New Roman')\n",
    "    plt.show()"
   ]
  },
  {
   "cell_type": "code",
   "execution_count": 558,
   "id": "10ed1629",
   "metadata": {},
   "outputs": [],
   "source": [
    "# Function to perform encoding on categorical columns and to seperate out features and targets from the dataset\n",
    "\n",
    "def encoding(df):\n",
    "    \n",
    "    # Convert categorical columns using one-hot encoding\n",
    "    categorical_columns = ['Type','Failure Type']\n",
    "    print(\"Categorical columns in dataset :\",categorical_columns)\n",
    "    print(\"Converting categorical columns using one-hot encoding...\\n\")\n",
    "    df = pd.get_dummies(df, columns=categorical_columns)\n",
    "    \n",
    "    print(\"Replacing NA values with median\\n\")\n",
    "    df= df.fillna(df.median())\n",
    "    \n",
    "    #Seperate features and target variables\n",
    "    print(\"Seperating features and target variables\\n\")\n",
    "    X = df.drop(['Target']+[col for col in df.columns if col.startswith('Failure Type_')], axis=1)\n",
    "    y = df[['Target']+[col for col in df.columns if col.startswith('Failure Type_')]]\n",
    "    \n",
    "    print(\"Data info after cleaning and one-hot encoding\\n\")\n",
    "    print(df.info())\n",
    "    return X, y, df"
   ]
  },
  {
   "cell_type": "code",
   "execution_count": 559,
   "id": "ae1fec24",
   "metadata": {},
   "outputs": [],
   "source": [
    "# Function to split data to testing & training sets\n",
    "\n",
    "def split_data(X, y, test_size=0.2, random_state=42):\n",
    "    X_train, X_test, y_train, y_test = train_test_split(X, y, test_size=test_size, random_state=random_state)\n",
    "    return X_train, X_test, y_train, y_test"
   ]
  },
  {
   "cell_type": "code",
   "execution_count": 560,
   "id": "f95ed33a",
   "metadata": {},
   "outputs": [],
   "source": [
    "# Function to train multi-output random forest\n",
    "\n",
    "def train_multi_output_rf(X_train,y_train):\n",
    "    base_rf = RandomForestClassifier(random_state=42)\n",
    "    multi_target_rf = MultiOutputClassifier(base_rf,n_jobs=-1)\n",
    "    multi_target_rf.fit(X_train,y_train)\n",
    "    return multi_target_rf\n"
   ]
  },
  {
   "cell_type": "code",
   "execution_count": 561,
   "id": "b5f9ebcf",
   "metadata": {},
   "outputs": [],
   "source": [
    "# Function for feature importance\n",
    "\n",
    "def feature_importance (model, X_train):\n",
    "    importances = model.estimators_[0].feature_importances_\n",
    "    feature_names = X_train.columns\n",
    "    feature_importance_df = pd.DataFrame({'Feature':feature_names,\n",
    "                                         'Importance':importances})\n",
    "    feature_importance_df=feature_importance_df.sort_values(by = 'Importance',\n",
    "                                                           ascending=False)\n",
    "    \n",
    "    plt.figure(figsize=(12,6))\n",
    "    sns.barplot(x='Importance', y='Feature', data = feature_importance_df)\n",
    "    plt.title('Feature Importance')\n",
    "    plt.show()"
   ]
  },
  {
   "cell_type": "code",
   "execution_count": 562,
   "id": "46f1c3a9",
   "metadata": {},
   "outputs": [],
   "source": [
    "# Function to evaluate model\n",
    "\n",
    "def evaluate_model(model, X_test, y_test):\n",
    "    predictions = model.predict(X_test)\n",
    "    accuracy = [accuracy_score(y_test.iloc[:,i], predictions[:,i]) for i in range(y_test.shape[1])]\n",
    "    report = [classification_report(y_test.iloc[:,i], predictions[:,i]) for i in range(y_test.shape[1])]\n",
    "    \n",
    "    #Plot Confusion Matrix\n",
    "    for i in range(y_test.shape[1]):\n",
    "        plt.figure(figsize=(4,4))\n",
    "        cm=confusion_matrix(y_test.iloc[:,i],predictions[:,i])\n",
    "        sns.heatmap(cm, annot=True, fmt='g', cmap='Blues', cbar=False)\n",
    "        plt.xlabel(\"Predicted\")\n",
    "        plt.ylabel(\"Actual\")\n",
    "        plt.title(f'Confusion Matrix for {y_test.columns[i]}')\n",
    "        plt.tight_layout()\n",
    "        plt.show()\n",
    "\n",
    "    return accuracy,report, predictions"
   ]
  },
  {
   "cell_type": "markdown",
   "id": "0cec2263",
   "metadata": {},
   "source": [
    "### The Data\n",
    "\n",
    "Data Source : [(https://www.kaggle.com/datasets/shivamb/machine-predictive-maintenance-classification)]\n",
    "\n",
    "The dataset used in this project is in csv format and was gathered from Kaggle\n",
    "\n",
    "#### Data Description\n",
    "\n",
    "The dataset comprises various features that capture the operational state of industrial machines. The dataset contains 10000 rows, each representing a unique instance of machine operation data. The data set consists of a total of 10 columns, of which 'Type' and 'Failure Type' are categorical. The entire dataset amounts to 140 kB. The data source provides the below description for each feature in the dataset :\n",
    "\n",
    "* UID: unique identifier ranging from 1 to 10000\n",
    "\n",
    "* ProductID: consisting of a letter L, M, or H for low (50% of all products), medium (30%), and high (20%) as product quality variants and a variant-specific serial number\n",
    "\n",
    "* Air temperature: generated using a random walk process later normalized to a standard deviation of 2 K around 300 K\n",
    "\n",
    "* Process Temperature: generated using a random walk process normalized to a standard deviation of 1 K, added to the air temperature plus 10 K.\n",
    "\n",
    "* Rotational Speed: calculated from powepower of 2860 W, overlaid with a normally distributed noise\n",
    "\n",
    "* Torque: torque values are normally distributed around 40 Nm with an Ïƒ = 10 Nm and no negative values.\n",
    "\n",
    "* Tool Wear: The quality variants H/M/L add 5/3/2 minutes of tool wear to the used tool in the process, and a\n",
    "'machine failure' label that indicates, whether the machine has failed in this particular data point for any of the following failure modes are true.\n",
    "\n",
    "* Target : Failure or Not\n",
    "\n",
    "* Failure Type : Type of Failure"
   ]
  },
  {
   "cell_type": "code",
   "execution_count": 563,
   "id": "bd567d32",
   "metadata": {},
   "outputs": [
    {
     "name": "stdout",
     "output_type": "stream",
     "text": [
      "Data Info\n",
      "\n",
      "<class 'pandas.core.frame.DataFrame'>\n",
      "RangeIndex: 10000 entries, 0 to 9999\n",
      "Data columns (total 10 columns):\n",
      " #   Column                   Non-Null Count  Dtype  \n",
      "---  ------                   --------------  -----  \n",
      " 0   UDI                      10000 non-null  int64  \n",
      " 1   Product ID               10000 non-null  object \n",
      " 2   Type                     10000 non-null  object \n",
      " 3   Air temperature [K]      10000 non-null  float64\n",
      " 4   Process temperature [K]  10000 non-null  float64\n",
      " 5   Rotational speed [rpm]   10000 non-null  int64  \n",
      " 6   Torque [Nm]              10000 non-null  float64\n",
      " 7   Tool wear [min]          10000 non-null  int64  \n",
      " 8   Target                   10000 non-null  int64  \n",
      " 9   Failure Type             10000 non-null  object \n",
      "dtypes: float64(3), int64(4), object(3)\n",
      "memory usage: 781.4+ KB\n",
      "None\n"
     ]
    }
   ],
   "source": [
    "\n",
    "warnings.filterwarnings('ignore')\n",
    "filename = \"predictive_maintenance.csv\"\n",
    "df=load_data(filename)"
   ]
  },
  {
   "cell_type": "markdown",
   "id": "b044817e",
   "metadata": {},
   "source": [
    "### Data Cleansing \n",
    "\n",
    "The below 5 data clensing steps were performed on the dataset\n",
    "\n",
    "#### 1. Check for missing data \n",
    "The dataset was checked for missing data. The check_data() checks for missing data and if an occurance of missing data is found, the row is removed from the dataset. There was no missing data found in the dataset.\n",
    "\n",
    "#### 2. Remove unused columns\n",
    "UID seems to be an index number and Product ID is an identification feature, both of which will not be used for model design and evaluation. Hence we can drop these two columns\n",
    "\n",
    "#### 3. Rename columns\n",
    "The columns can be renamed to make them a bit shorter. We can rename them by removing the units of measurement from the column names"
   ]
  },
  {
   "cell_type": "code",
   "execution_count": 564,
   "id": "d16a2376",
   "metadata": {},
   "outputs": [
    {
     "name": "stdout",
     "output_type": "stream",
     "text": [
      "\n",
      "\n",
      "Checking for missing data...\n",
      "No missing data \n",
      "\n",
      "Droping ProductID...\n",
      "Droping UDI...\n",
      "\n",
      "Data info after initial cleaning\n",
      "\n",
      "<class 'pandas.core.frame.DataFrame'>\n",
      "RangeIndex: 10000 entries, 0 to 9999\n",
      "Data columns (total 8 columns):\n",
      " #   Column               Non-Null Count  Dtype  \n",
      "---  ------               --------------  -----  \n",
      " 0   Type                 10000 non-null  object \n",
      " 1   Air Temperature      10000 non-null  float64\n",
      " 2   Process Temperature  10000 non-null  float64\n",
      " 3   Rotational Speed     10000 non-null  int64  \n",
      " 4   Torque               10000 non-null  float64\n",
      " 5   Tool Wear            10000 non-null  int64  \n",
      " 6   Target               10000 non-null  int64  \n",
      " 7   Failure Type         10000 non-null  object \n",
      "dtypes: float64(3), int64(3), object(2)\n",
      "memory usage: 625.1+ KB\n",
      "None\n"
     ]
    }
   ],
   "source": [
    "df = check_preprocess(filename,df)"
   ]
  },
  {
   "cell_type": "markdown",
   "id": "cc8ca50a",
   "metadata": {},
   "source": [
    "#### 4. Checking for imbalances in data\n",
    "The dataset was checked for imbalances between classes by visualizing counts for each failure type. It was observed that the data is heavily imbalanced with majority of cases being a 'non-failure'"
   ]
  },
  {
   "cell_type": "code",
   "execution_count": 565,
   "id": "32386fbf",
   "metadata": {},
   "outputs": [
    {
     "data": {
      "image/png": "[encoded data removed]",
      "text/plain": [
       "<Figure size 720x576 with 1 Axes>"
      ]
     },
     "metadata": {
      "needs_background": "light"
     },
     "output_type": "display_data"
    }
   ],
   "source": [
    "# Check for imbalance\n",
    "ax= df['Failure Type'].value_counts().plot(kind='barh',figsize=(10,8), color=\"#364F6B\")\n",
    "ax.set_title(label = \"\\n Checking Imbalances for Class 'Failure Type\"\n",
    "                 , fontsize = 20,color='#45474B',font='Times New Roman');\n",
    "ax.bar_label(ax.containers[0])\n",
    "plt.tight_layout()\n",
    "plt.show()"
   ]
  },
  {
   "cell_type": "markdown",
   "id": "1782e77b",
   "metadata": {},
   "source": [
    "#### 5. Check for inconsistencies in data\n",
    "If the data were consistenet, there would be zero cases where 'Target' is 1 (indicating true for failure) and 'Failure Type' 'No Failure' is greater than 0. From the below, it was observed that there were 9 occurances of 'Target' indicating a failure and 'Failure Type' indicating failure. Since these will cause inconsistencies, we can remove these 9 rows"
   ]
  },
  {
   "cell_type": "code",
   "execution_count": 566,
   "id": "17b87e06",
   "metadata": {},
   "outputs": [
    {
     "data": {
      "text/html": [
       "<div>\n",
       "<style scoped>\n",
       "    .dataframe tbody tr th:only-of-type {\n",
       "        vertical-align: middle;\n",
       "    }\n",
       "\n",
       "    .dataframe tbody tr th {\n",
       "        vertical-align: top;\n",
       "    }\n",
       "\n",
       "    .dataframe thead th {\n",
       "        text-align: right;\n",
       "    }\n",
       "</style>\n",
       "<table border=\"1\" class=\"dataframe\">\n",
       "  <thead>\n",
       "    <tr style=\"text-align: right;\">\n",
       "      <th></th>\n",
       "      <th>Type</th>\n",
       "      <th>Air Temperature</th>\n",
       "      <th>Process Temperature</th>\n",
       "      <th>Rotational Speed</th>\n",
       "      <th>Torque</th>\n",
       "      <th>Tool Wear</th>\n",
       "      <th>Target</th>\n",
       "      <th>Failure Type</th>\n",
       "    </tr>\n",
       "  </thead>\n",
       "  <tbody>\n",
       "    <tr>\n",
       "      <th>1437</th>\n",
       "      <td>H</td>\n",
       "      <td>298.8</td>\n",
       "      <td>309.9</td>\n",
       "      <td>1439</td>\n",
       "      <td>45.2</td>\n",
       "      <td>40</td>\n",
       "      <td>1</td>\n",
       "      <td>No Fai...</td>\n",
       "    </tr>\n",
       "    <tr>\n",
       "      <th>2749</th>\n",
       "      <td>M</td>\n",
       "      <td>299.7</td>\n",
       "      <td>309.2</td>\n",
       "      <td>1685</td>\n",
       "      <td>28.9</td>\n",
       "      <td>179</td>\n",
       "      <td>1</td>\n",
       "      <td>No Fai...</td>\n",
       "    </tr>\n",
       "    <tr>\n",
       "      <th>4044</th>\n",
       "      <td>M</td>\n",
       "      <td>301.9</td>\n",
       "      <td>310.9</td>\n",
       "      <td>1419</td>\n",
       "      <td>47.7</td>\n",
       "      <td>20</td>\n",
       "      <td>1</td>\n",
       "      <td>No Fai...</td>\n",
       "    </tr>\n",
       "    <tr>\n",
       "      <th>4684</th>\n",
       "      <td>M</td>\n",
       "      <td>303.6</td>\n",
       "      <td>311.8</td>\n",
       "      <td>1421</td>\n",
       "      <td>44.8</td>\n",
       "      <td>101</td>\n",
       "      <td>1</td>\n",
       "      <td>No Fai...</td>\n",
       "    </tr>\n",
       "    <tr>\n",
       "      <th>5536</th>\n",
       "      <td>M</td>\n",
       "      <td>302.3</td>\n",
       "      <td>311.8</td>\n",
       "      <td>1363</td>\n",
       "      <td>54.0</td>\n",
       "      <td>119</td>\n",
       "      <td>1</td>\n",
       "      <td>No Fai...</td>\n",
       "    </tr>\n",
       "    <tr>\n",
       "      <th>5941</th>\n",
       "      <td>L</td>\n",
       "      <td>300.6</td>\n",
       "      <td>310.7</td>\n",
       "      <td>1438</td>\n",
       "      <td>48.5</td>\n",
       "      <td>78</td>\n",
       "      <td>1</td>\n",
       "      <td>No Fai...</td>\n",
       "    </tr>\n",
       "    <tr>\n",
       "      <th>6478</th>\n",
       "      <td>L</td>\n",
       "      <td>300.5</td>\n",
       "      <td>309.8</td>\n",
       "      <td>1663</td>\n",
       "      <td>29.1</td>\n",
       "      <td>145</td>\n",
       "      <td>1</td>\n",
       "      <td>No Fai...</td>\n",
       "    </tr>\n",
       "    <tr>\n",
       "      <th>8506</th>\n",
       "      <td>L</td>\n",
       "      <td>298.4</td>\n",
       "      <td>309.6</td>\n",
       "      <td>1710</td>\n",
       "      <td>27.3</td>\n",
       "      <td>163</td>\n",
       "      <td>1</td>\n",
       "      <td>No Fai...</td>\n",
       "    </tr>\n",
       "    <tr>\n",
       "      <th>9015</th>\n",
       "      <td>L</td>\n",
       "      <td>297.2</td>\n",
       "      <td>308.1</td>\n",
       "      <td>1431</td>\n",
       "      <td>49.7</td>\n",
       "      <td>210</td>\n",
       "      <td>1</td>\n",
       "      <td>No Fai...</td>\n",
       "    </tr>\n",
       "  </tbody>\n",
       "</table>\n",
       "</div>"
      ],
      "text/plain": [
       "     Type  Air Temperature  Process Temperature  Rotational Speed  Torque  Tool Wear  Target Failure Type\n",
       "1437    H      298.8            309.9                 1439           45.2         40       1  No Fai...  \n",
       "2749    M      299.7            309.2                 1685           28.9        179       1  No Fai...  \n",
       "4044    M      301.9            310.9                 1419           47.7         20       1  No Fai...  \n",
       "4684    M      303.6            311.8                 1421           44.8        101       1  No Fai...  \n",
       "5536    M      302.3            311.8                 1363           54.0        119       1  No Fai...  \n",
       "5941    L      300.6            310.7                 1438           48.5         78       1  No Fai...  \n",
       "6478    L      300.5            309.8                 1663           29.1        145       1  No Fai...  \n",
       "8506    L      298.4            309.6                 1710           27.3        163       1  No Fai...  \n",
       "9015    L      297.2            308.1                 1431           49.7        210       1  No Fai...  "
      ]
     },
     "execution_count": 566,
     "metadata": {},
     "output_type": "execute_result"
    }
   ],
   "source": [
    "df_failure = df[df['Target'] == 1]\n",
    "df_failure['Failure Type'].value_counts()\n",
    "df_failure[df_failure['Failure Type'] == 'No Failure']"
   ]
  },
  {
   "cell_type": "code",
   "execution_count": 567,
   "id": "9ee83cad",
   "metadata": {},
   "outputs": [],
   "source": [
    "df.drop(df_failure[df_failure['Failure Type'] == 'No Failure'].index, axis=0, inplace=True)"
   ]
  },
  {
   "cell_type": "markdown",
   "id": "751065c7",
   "metadata": {},
   "source": [
    "Similar test was conducted for Target = 0, indicating false for failure. There were 18 inconsistencies, meaning target indicated non failure while 'failure type' was noted as random failure. We can remove these inconsistent data"
   ]
  },
  {
   "cell_type": "code",
   "execution_count": 568,
   "id": "eb0229f3",
   "metadata": {},
   "outputs": [
    {
     "name": "stdout",
     "output_type": "stream",
     "text": [
      "No Failure         9643\n",
      "Random Failures      18\n",
      "Name: Failure Type, dtype: int64\n"
     ]
    },
    {
     "data": {
      "text/html": [
       "<div>\n",
       "<style scoped>\n",
       "    .dataframe tbody tr th:only-of-type {\n",
       "        vertical-align: middle;\n",
       "    }\n",
       "\n",
       "    .dataframe tbody tr th {\n",
       "        vertical-align: top;\n",
       "    }\n",
       "\n",
       "    .dataframe thead th {\n",
       "        text-align: right;\n",
       "    }\n",
       "</style>\n",
       "<table border=\"1\" class=\"dataframe\">\n",
       "  <thead>\n",
       "    <tr style=\"text-align: right;\">\n",
       "      <th></th>\n",
       "      <th>Type</th>\n",
       "      <th>Air Temperature</th>\n",
       "      <th>Process Temperature</th>\n",
       "      <th>Rotational Speed</th>\n",
       "      <th>Torque</th>\n",
       "      <th>Tool Wear</th>\n",
       "      <th>Target</th>\n",
       "      <th>Failure Type</th>\n",
       "    </tr>\n",
       "  </thead>\n",
       "  <tbody>\n",
       "    <tr>\n",
       "      <th>1221</th>\n",
       "      <td>M</td>\n",
       "      <td>297.0</td>\n",
       "      <td>308.3</td>\n",
       "      <td>1399</td>\n",
       "      <td>46.4</td>\n",
       "      <td>132</td>\n",
       "      <td>0</td>\n",
       "      <td>Random...</td>\n",
       "    </tr>\n",
       "    <tr>\n",
       "      <th>1302</th>\n",
       "      <td>L</td>\n",
       "      <td>298.6</td>\n",
       "      <td>309.8</td>\n",
       "      <td>1505</td>\n",
       "      <td>45.7</td>\n",
       "      <td>144</td>\n",
       "      <td>0</td>\n",
       "      <td>Random...</td>\n",
       "    </tr>\n",
       "    <tr>\n",
       "      <th>1748</th>\n",
       "      <td>H</td>\n",
       "      <td>298.4</td>\n",
       "      <td>307.7</td>\n",
       "      <td>1626</td>\n",
       "      <td>31.1</td>\n",
       "      <td>166</td>\n",
       "      <td>0</td>\n",
       "      <td>Random...</td>\n",
       "    </tr>\n",
       "    <tr>\n",
       "      <th>2072</th>\n",
       "      <td>L</td>\n",
       "      <td>299.6</td>\n",
       "      <td>309.5</td>\n",
       "      <td>1570</td>\n",
       "      <td>35.5</td>\n",
       "      <td>189</td>\n",
       "      <td>0</td>\n",
       "      <td>Random...</td>\n",
       "    </tr>\n",
       "    <tr>\n",
       "      <th>2559</th>\n",
       "      <td>L</td>\n",
       "      <td>299.3</td>\n",
       "      <td>309.0</td>\n",
       "      <td>1447</td>\n",
       "      <td>50.4</td>\n",
       "      <td>140</td>\n",
       "      <td>0</td>\n",
       "      <td>Random...</td>\n",
       "    </tr>\n",
       "    <tr>\n",
       "      <th>3065</th>\n",
       "      <td>M</td>\n",
       "      <td>300.1</td>\n",
       "      <td>309.2</td>\n",
       "      <td>1687</td>\n",
       "      <td>27.7</td>\n",
       "      <td>95</td>\n",
       "      <td>0</td>\n",
       "      <td>Random...</td>\n",
       "    </tr>\n",
       "    <tr>\n",
       "      <th>3452</th>\n",
       "      <td>H</td>\n",
       "      <td>301.6</td>\n",
       "      <td>310.5</td>\n",
       "      <td>1602</td>\n",
       "      <td>32.3</td>\n",
       "      <td>2</td>\n",
       "      <td>0</td>\n",
       "      <td>Random...</td>\n",
       "    </tr>\n",
       "    <tr>\n",
       "      <th>5471</th>\n",
       "      <td>L</td>\n",
       "      <td>302.7</td>\n",
       "      <td>312.3</td>\n",
       "      <td>1346</td>\n",
       "      <td>61.2</td>\n",
       "      <td>170</td>\n",
       "      <td>0</td>\n",
       "      <td>Random...</td>\n",
       "    </tr>\n",
       "    <tr>\n",
       "      <th>5489</th>\n",
       "      <td>L</td>\n",
       "      <td>302.6</td>\n",
       "      <td>312.1</td>\n",
       "      <td>1499</td>\n",
       "      <td>35.0</td>\n",
       "      <td>215</td>\n",
       "      <td>0</td>\n",
       "      <td>Random...</td>\n",
       "    </tr>\n",
       "    <tr>\n",
       "      <th>5495</th>\n",
       "      <td>H</td>\n",
       "      <td>302.9</td>\n",
       "      <td>312.5</td>\n",
       "      <td>1357</td>\n",
       "      <td>55.0</td>\n",
       "      <td>12</td>\n",
       "      <td>0</td>\n",
       "      <td>Random...</td>\n",
       "    </tr>\n",
       "    <tr>\n",
       "      <th>5509</th>\n",
       "      <td>L</td>\n",
       "      <td>302.8</td>\n",
       "      <td>312.2</td>\n",
       "      <td>1509</td>\n",
       "      <td>36.5</td>\n",
       "      <td>52</td>\n",
       "      <td>0</td>\n",
       "      <td>Random...</td>\n",
       "    </tr>\n",
       "    <tr>\n",
       "      <th>5553</th>\n",
       "      <td>L</td>\n",
       "      <td>302.5</td>\n",
       "      <td>311.9</td>\n",
       "      <td>1306</td>\n",
       "      <td>59.7</td>\n",
       "      <td>172</td>\n",
       "      <td>0</td>\n",
       "      <td>Random...</td>\n",
       "    </tr>\n",
       "    <tr>\n",
       "      <th>5639</th>\n",
       "      <td>L</td>\n",
       "      <td>302.6</td>\n",
       "      <td>312.1</td>\n",
       "      <td>1668</td>\n",
       "      <td>28.7</td>\n",
       "      <td>180</td>\n",
       "      <td>0</td>\n",
       "      <td>Random...</td>\n",
       "    </tr>\n",
       "    <tr>\n",
       "      <th>6091</th>\n",
       "      <td>L</td>\n",
       "      <td>300.9</td>\n",
       "      <td>310.7</td>\n",
       "      <td>1412</td>\n",
       "      <td>57.5</td>\n",
       "      <td>16</td>\n",
       "      <td>0</td>\n",
       "      <td>Random...</td>\n",
       "    </tr>\n",
       "    <tr>\n",
       "      <th>6913</th>\n",
       "      <td>L</td>\n",
       "      <td>300.8</td>\n",
       "      <td>311.2</td>\n",
       "      <td>1481</td>\n",
       "      <td>38.5</td>\n",
       "      <td>181</td>\n",
       "      <td>0</td>\n",
       "      <td>Random...</td>\n",
       "    </tr>\n",
       "    <tr>\n",
       "      <th>6960</th>\n",
       "      <td>L</td>\n",
       "      <td>300.7</td>\n",
       "      <td>311.0</td>\n",
       "      <td>1413</td>\n",
       "      <td>52.0</td>\n",
       "      <td>91</td>\n",
       "      <td>0</td>\n",
       "      <td>Random...</td>\n",
       "    </tr>\n",
       "    <tr>\n",
       "      <th>7488</th>\n",
       "      <td>L</td>\n",
       "      <td>300.3</td>\n",
       "      <td>311.7</td>\n",
       "      <td>1545</td>\n",
       "      <td>43.5</td>\n",
       "      <td>160</td>\n",
       "      <td>0</td>\n",
       "      <td>Random...</td>\n",
       "    </tr>\n",
       "    <tr>\n",
       "      <th>7868</th>\n",
       "      <td>H</td>\n",
       "      <td>300.4</td>\n",
       "      <td>311.9</td>\n",
       "      <td>1438</td>\n",
       "      <td>46.7</td>\n",
       "      <td>41</td>\n",
       "      <td>0</td>\n",
       "      <td>Random...</td>\n",
       "    </tr>\n",
       "  </tbody>\n",
       "</table>\n",
       "</div>"
      ],
      "text/plain": [
       "     Type  Air Temperature  Process Temperature  Rotational Speed  Torque  Tool Wear  Target Failure Type\n",
       "1221    M      297.0            308.3                 1399           46.4        132       0  Random...  \n",
       "1302    L      298.6            309.8                 1505           45.7        144       0  Random...  \n",
       "1748    H      298.4            307.7                 1626           31.1        166       0  Random...  \n",
       "2072    L      299.6            309.5                 1570           35.5        189       0  Random...  \n",
       "2559    L      299.3            309.0                 1447           50.4        140       0  Random...  \n",
       "3065    M      300.1            309.2                 1687           27.7         95       0  Random...  \n",
       "3452    H      301.6            310.5                 1602           32.3          2       0  Random...  \n",
       "5471    L      302.7            312.3                 1346           61.2        170       0  Random...  \n",
       "5489    L      302.6            312.1                 1499           35.0        215       0  Random...  \n",
       "5495    H      302.9            312.5                 1357           55.0         12       0  Random...  \n",
       "5509    L      302.8            312.2                 1509           36.5         52       0  Random...  \n",
       "5553    L      302.5            311.9                 1306           59.7        172       0  Random...  \n",
       "5639    L      302.6            312.1                 1668           28.7        180       0  Random...  \n",
       "6091    L      300.9            310.7                 1412           57.5         16       0  Random...  \n",
       "6913    L      300.8            311.2                 1481           38.5        181       0  Random...  \n",
       "6960    L      300.7            311.0                 1413           52.0         91       0  Random...  \n",
       "7488    L      300.3            311.7                 1545           43.5        160       0  Random...  \n",
       "7868    H      300.4            311.9                 1438           46.7         41       0  Random...  "
      ]
     },
     "execution_count": 568,
     "metadata": {},
     "output_type": "execute_result"
    }
   ],
   "source": [
    "df_failure = df[df['Target'] == 0]\n",
    "print(df_failure['Failure Type'].value_counts())\n",
    "df_failure[df_failure['Failure Type'] == 'Random Failures']"
   ]
  },
  {
   "cell_type": "code",
   "execution_count": 569,
   "id": "3a9f2f1a",
   "metadata": {},
   "outputs": [],
   "source": [
    "df.drop(df_failure[df_failure['Failure Type'] == 'Random Failures'].index, axis=0, inplace=True)"
   ]
  },
  {
   "cell_type": "markdown",
   "id": "3e0dbb8e",
   "metadata": {},
   "source": [
    "### Conclusions after cleansing\n",
    "\n",
    "From the cleansed data, we can observe that the data is still imbalanced. Another importent observation is that all 18 occurances of 'Failure Type' 'Random Failure' was removed during cleansing the data for inconsistencies. 'No Fail' volume also went down by 9. All other 'Failure Type' counts remain the same."
   ]
  },
  {
   "cell_type": "code",
   "execution_count": 570,
   "id": "e8e7ce76",
   "metadata": {},
   "outputs": [
    {
     "name": "stdout",
     "output_type": "stream",
     "text": [
      "Data info after cleaning\n",
      "\n",
      "<class 'pandas.core.frame.DataFrame'>\n",
      "Int64Index: 9973 entries, 0 to 9999\n",
      "Data columns (total 8 columns):\n",
      " #   Column               Non-Null Count  Dtype  \n",
      "---  ------               --------------  -----  \n",
      " 0   Type                 9973 non-null   object \n",
      " 1   Air Temperature      9973 non-null   float64\n",
      " 2   Process Temperature  9973 non-null   float64\n",
      " 3   Rotational Speed     9973 non-null   int64  \n",
      " 4   Torque               9973 non-null   float64\n",
      " 5   Tool Wear            9973 non-null   int64  \n",
      " 6   Target               9973 non-null   int64  \n",
      " 7   Failure Type         9973 non-null   object \n",
      "dtypes: float64(3), int64(3), object(2)\n",
      "memory usage: 701.2+ KB\n",
      "None \n",
      "\n",
      "No Failure                  9643\n",
      "Heat Dissipation Failure     112\n",
      "Power Failure                 95\n",
      "Overstrain Failure            78\n",
      "Tool Wear Failure             45\n",
      "Name: Failure Type, dtype: int64\n"
     ]
    }
   ],
   "source": [
    "print(\"Data info after cleaning\\n\")\n",
    "print(df.info(),\"\\n\")\n",
    "print(df['Failure Type'].value_counts())"
   ]
  },
  {
   "cell_type": "markdown",
   "id": "652ac138",
   "metadata": {},
   "source": [
    "### Exploratory Data Analysis & Conclusions\n",
    "\n",
    "During EDA, the below plots and conclusions were made :\n",
    "\n",
    "#### 1. Failure Counts for Each  Product Type\n",
    "The highest failure rates were observed for low quality products. To go deeper into this analysis, let us see the data distribution of product types in the dataset. Are there equal number of low, medium & high quality products?\n",
    "\n",
    "#### 2. Data Distribution of Product Type\n",
    "It was observed that 60% of the machines belong to type 'L' or 'low' product quality, 30% to 'M' or 'medium' quality and 10% to 'H' or 'high' quality\n",
    "\n",
    "#### 3. Data Distribution of Failure Types\n",
    "It can be observed that most datapoints indicated 'no failure'. The most common type of machine failure was found to be 'Heat Dissipation Failure' and 'Tool Wear Failure' was observed to be the least common failure type.\n",
    "\n",
    "#### 4. Numerical Features and the Frequency of Occurence\n",
    "Plots were generated to analyse all the numerical features and the frequency of occurence for each value. The plots also show the range of values for each feature. These plots can also be used to check for possible outliers. For e.g., in the 'Distribution of Rotational Speed' plot, it can be observed that most values lie in the range of 1250 to 2250. Any values below or above have very few occurrences and has the possibility of being outliers.\n",
    "\n",
    "#### 5. Correlation Matrix\n",
    "Correlation matrix was plotted to check for correlation between features in the dataset. It was observed that 'Air Temperature' and 'Process Temperature' are positively correlated while 'Rotational Speed' and 'Torque' are negatively correlated."
   ]
  },
  {
   "cell_type": "code",
   "execution_count": 573,
   "id": "1460e181",
   "metadata": {},
   "outputs": [
    {
     "name": "stdout",
     "output_type": "stream",
     "text": [
      "\n",
      "Failures For Each Product Type (0 : No Failure, 1: Failure)\n",
      "\n",
      "For Product Type  L\n",
      "0    5753\n",
      "1     231\n",
      "Name: Target, dtype: int64\n",
      "\n",
      "For Product Type  M\n",
      "0    2912\n",
      "1      79\n",
      "Name: Target, dtype: int64\n",
      "\n",
      "For Product Type  H\n",
      "0    978\n",
      "1     20\n",
      "Name: Target, dtype: int64\n"
     ]
    },
    {
     "data": {
      "image/png": "[encoded data removed]",
      "text/plain": [
       "<Figure size 720x576 with 2 Axes>"
      ]
     },
     "metadata": {
      "needs_background": "light"
     },
     "output_type": "display_data"
    },
    {
     "data": {
      "image/png": "[encoded data removed]",
      "text/plain": [
       "<Figure size 720x576 with 6 Axes>"
      ]
     },
     "metadata": {
      "needs_background": "light"
     },
     "output_type": "display_data"
    },
    {
     "data": {
      "image/png": "[encoded data removed]",
      "text/plain": [
       "<Figure size 432x432 with 2 Axes>"
      ]
     },
     "metadata": {
      "needs_background": "light"
     },
     "output_type": "display_data"
    }
   ],
   "source": [
    "eda(df)"
   ]
  },
  {
   "cell_type": "markdown",
   "id": "b09f6fc6",
   "metadata": {},
   "source": [
    "### Data Encoding & Processing\n",
    "\n",
    "Before we can move on to designing the model, the categorical features has to be encoded. The categorical features are 'Type' and 'Failure Type'. We will use one-hot encoding for this task.\n",
    "\n",
    "Once the encoding is complete, we replace NA values that may have been generate during the process with median values. \n",
    "\n",
    "Finally, we seperate out the target and features from the dataset.\n",
    "\n",
    "From the info, we see that additional columns Type_H, Type_L, Type_M, Failure Type_Heat Dissipation Failure, Failure Type_No Failure,  Failure Type_Overstrain Failure, Failure Type_Power Failure, Failure Type_Tool Wear Failure were created as a result of encoding\n",
    "\n",
    "\n",
    "(Check encoding() for implementation)"
   ]
  },
  {
   "cell_type": "code",
   "execution_count": 574,
   "id": "7fdd90dd",
   "metadata": {
    "scrolled": true
   },
   "outputs": [
    {
     "name": "stdout",
     "output_type": "stream",
     "text": [
      "Categorical columns in dataset : ['Type', 'Failure Type']\n",
      "Converting categorical columns using one-hot encoding...\n",
      "\n",
      "Replacing NA values with median\n",
      "\n",
      "Seperating features and target variables\n",
      "\n",
      "Data info after cleaning and one-hot encoding\n",
      "\n",
      "<class 'pandas.core.frame.DataFrame'>\n",
      "Int64Index: 9973 entries, 0 to 9999\n",
      "Data columns (total 14 columns):\n",
      " #   Column                                 Non-Null Count  Dtype  \n",
      "---  ------                                 --------------  -----  \n",
      " 0   Air Temperature                        9973 non-null   float64\n",
      " 1   Process Temperature                    9973 non-null   float64\n",
      " 2   Rotational Speed                       9973 non-null   int64  \n",
      " 3   Torque                                 9973 non-null   float64\n",
      " 4   Tool Wear                              9973 non-null   int64  \n",
      " 5   Target                                 9973 non-null   int64  \n",
      " 6   Type_H                                 9973 non-null   uint8  \n",
      " 7   Type_L                                 9973 non-null   uint8  \n",
      " 8   Type_M                                 9973 non-null   uint8  \n",
      " 9   Failure Type_Heat Dissipation Failure  9973 non-null   uint8  \n",
      " 10  Failure Type_No Failure                9973 non-null   uint8  \n",
      " 11  Failure Type_Overstrain Failure        9973 non-null   uint8  \n",
      " 12  Failure Type_Power Failure             9973 non-null   uint8  \n",
      " 13  Failure Type_Tool Wear Failure         9973 non-null   uint8  \n",
      "dtypes: float64(3), int64(3), uint8(8)\n",
      "memory usage: 623.3 KB\n",
      "None\n"
     ]
    }
   ],
   "source": [
    "\n",
    "X, y, df = encoding(df)"
   ]
  },
  {
   "cell_type": "markdown",
   "id": "d3d94b58",
   "metadata": {},
   "source": [
    "### Split Data Into Training & Test Set\n",
    "\n",
    "After proper encoding and seperating data into target and features, we split the data into training & test sets. The default test size is set to 20%."
   ]
  },
  {
   "cell_type": "code",
   "execution_count": 575,
   "id": "a9e8bfe9",
   "metadata": {},
   "outputs": [],
   "source": [
    "#Split Data\n",
    "X_train, X_test, y_train, y_test = split_data(X, y)\n"
   ]
  },
  {
   "cell_type": "markdown",
   "id": "3b18cfdf",
   "metadata": {},
   "source": [
    "### Model Selection, Design & Training\n",
    "\n",
    "From EDA, we observed that the dataset contains almost 10K rows and that some of the features are correlated. This project also calls for multiple classification outputs. Keeping this in mind, we can choose **Multi Output Classifier** as our model algorithm with **Random Forests** as the base model. \n",
    "\n",
    "\n",
    "Random forests can be extended to handle multiple output variables simultaneously. This is called **multi-output random forest**. Each decision tree in the forest is trained to predict multiple target variables at the same time.\n",
    "\n",
    "\n",
    "One of the major advantage of this model is that it captures correlations between the target variables, which is necessary in this case since 'Target' (Failure or No Failure) is strongly correlated to 'Failure Type' "
   ]
  },
  {
   "cell_type": "code",
   "execution_count": 576,
   "id": "c07c9108",
   "metadata": {},
   "outputs": [],
   "source": [
    "#Train Model\n",
    "model = train_multi_output_rf(X_train, y_train)\n",
    "    "
   ]
  },
  {
   "cell_type": "markdown",
   "id": "bd5749e6",
   "metadata": {},
   "source": [
    "### Feature Importance\n",
    "\n",
    "The feature importance plot below visualizes the importance of features using a bar plot. From the plot, it can be observed that 'Torque', 'Rotational Speed' and 'Tool Wear' are the most relevent features and contribute significantly to the prediction accuracy.\n",
    "\n",
    "But it has to be noted that from the correlation matrix, we observed that 'Torque' and 'Rotational Speed' are correlated and 'Air Temperature' and 'Process Temperature' are also correlated. So eliminating features based on feature importance alone may result in the loss of important features. "
   ]
  },
  {
   "cell_type": "code",
   "execution_count": 577,
   "id": "385c7934",
   "metadata": {},
   "outputs": [
    {
     "data": {
      "image/png": "[encoded data removed]",
      "text/plain": [
       "<Figure size 864x432 with 1 Axes>"
      ]
     },
     "metadata": {
      "needs_background": "light"
     },
     "output_type": "display_data"
    }
   ],
   "source": [
    "#Visualize feature importance\n",
    "feature_importance(model, X_train) "
   ]
  },
  {
   "cell_type": "markdown",
   "id": "5ecc6cfc",
   "metadata": {},
   "source": [
    "### Model Evaluation, Results & Analysis\n",
    "\n",
    "#### 1.  Evaluation Using Confusion Matrix\n",
    "The evaluate_model() includes confusion matrix visualization. The process iterates through each output target, computes the confusion matrix and visualizes using a heatmap. \n",
    "\n",
    "Confusion matrix helps visualize the performance of the classifier by showing the counts of true positives, false positives, true negatives & false negatives.\n",
    "\n",
    "By analysing the confusion matrix, you can gain deeper insights into how well your model is performing for each output target, beyond just accuracy.\n",
    "\n",
    "   **Results & Analysis**\n",
    "From the 'Target' confusion matrix, it can be observed that the model accurately predicted most of the non failures (1932)and accurately predicted more than half of the machine failures(34). But the model did not accurately predict 25 of the machine failures and incorrectly flagged 4 points as failures when it did not actually fail. \n",
    "\n",
    "From the confusion matrix we can conclude that the model did an okay job predicting if the machine failed or not and also accurately predicted most cases of 'Overstrain Failure'. But, the model did not perform well in predicting 'Tool Wear' failures as well as 'Heat Dissipation' failures. "
   ]
  },
  {
   "cell_type": "code",
   "execution_count": 578,
   "id": "6bed2bdd",
   "metadata": {},
   "outputs": [
    {
     "data": {
      "image/png": "[encoded data removed]",
      "text/plain": [
       "<Figure size 288x288 with 1 Axes>"
      ]
     },
     "metadata": {
      "needs_background": "light"
     },
     "output_type": "display_data"
    },
    {
     "data": {
      "image/png": "[encoded data removed]",
      "text/plain": [
       "<Figure size 288x288 with 1 Axes>"
      ]
     },
     "metadata": {
      "needs_background": "light"
     },
     "output_type": "display_data"
    },
    {
     "data": {
      "image/png": "[encoded data removed]",
      "text/plain": [
       "<Figure size 288x288 with 1 Axes>"
      ]
     },
     "metadata": {
      "needs_background": "light"
     },
     "output_type": "display_data"
    },
    {
     "data": {
      "image/png": "[encoded data removed]",
      "text/plain": [
       "<Figure size 288x288 with 1 Axes>"
      ]
     },
     "metadata": {
      "needs_background": "light"
     },
     "output_type": "display_data"
    },
    {
     "data": {
      "image/png": "[encoded data removed]",
      "text/plain": [
       "<Figure size 288x288 with 1 Axes>"
      ]
     },
     "metadata": {
      "needs_background": "light"
     },
     "output_type": "display_data"
    },
    {
     "data": {
      "image/png": "[encoded data removed]",
      "text/plain": [
       "<Figure size 288x288 with 1 Axes>"
      ]
     },
     "metadata": {
      "needs_background": "light"
     },
     "output_type": "display_data"
    }
   ],
   "source": [
    "#Evaluate Model\n",
    "accuracy, report, predictions = evaluate_model(model, X_test, y_test)\n"
   ]
  },
  {
   "cell_type": "markdown",
   "id": "d9f332b4",
   "metadata": {},
   "source": [
    "#### 2. Evaluation Using Accuracy Scores\n",
    "\n",
    "When dealing with imbalanced data, accuracy score is generally not a good measure of model performance. This is because accuracy can be misleading when class distribution is skewed. For e.g. if 95% of the instances belong to one class, a model that always predicts this majority class will have 95% accuracy, but it would be poor at predicting the minority classes.\n",
    "\n",
    "   **Results & Analysis**\n",
    "It can be noted that the accuracy scores are very high for all the target columns. Even for 'Failure Type_Tool Wear Failure' and 'Failure Type_Heat Dissipation Failure' which we found from the above confusion matrix to have poor performance. This proves the point that accuracy score is generally not a good measure of model performance when dealing with imbalanced data. "
   ]
  },
  {
   "cell_type": "code",
   "execution_count": 579,
   "id": "dd44b315",
   "metadata": {},
   "outputs": [
    {
     "name": "stdout",
     "output_type": "stream",
     "text": [
      "Accuracy Scores :\n",
      "\n",
      "Target Accuracy:0.99\n",
      "Failure Type_Heat Dissipation Failure Accuracy:0.99\n",
      "Failure Type_No Failure Accuracy:0.98\n",
      "Failure Type_Overstrain Failure Accuracy:1.00\n",
      "Failure Type_Power Failure Accuracy:0.99\n",
      "Failure Type_Tool Wear Failure Accuracy:1.00\n"
     ]
    }
   ],
   "source": [
    "\n",
    "print(\"Accuracy Scores :\\n\")\n",
    "for i, acc in enumerate(accuracy):\n",
    "    target_name = y.columns[i]\n",
    "    print(f\"{target_name} Accuracy:{acc:.2f}\")\n",
    "        \n"
   ]
  },
  {
   "cell_type": "markdown",
   "id": "7394e0d2",
   "metadata": {},
   "source": [
    "#### 3. Evaluation Using Precision, Recall & F1 Score\n",
    "\n",
    "For imbalanced datasets, it's crucial to use evaluation metrics that consider the performance on the minority class. We can check precision, recall & F1 score for a balanced view of the model's performance.\n",
    "\n",
    "   **Results & Analysis** The below generated classification report shows precision, recall & F1 score for all predicted targets. It can be observed that the model did a decent job at positive prediction for machine failure or no failure with an average precision of 0.94, average recall of 0.79 and average F1 score of 0.85. It can also be noted that the model did not do a good job on predicting 'Tool Wear' failures with average precision, recall & F1 score of 0.5 each. It should also be noted that the model accurately predicted true negatives and never predicted any true positives."
   ]
  },
  {
   "cell_type": "code",
   "execution_count": 580,
   "id": "f0e6bc50",
   "metadata": {},
   "outputs": [
    {
     "name": "stdout",
     "output_type": "stream",
     "text": [
      "Classification Reports :\n",
      "\n",
      "Target Classification Reports:\n",
      "              precision    recall  f1-score   support\n",
      "\n",
      "           0       0.99      1.00      0.99      1936\n",
      "           1       0.89      0.58      0.70        59\n",
      "\n",
      "    accuracy                           0.99      1995\n",
      "   macro avg       0.94      0.79      0.85      1995\n",
      "weighted avg       0.98      0.99      0.98      1995\n",
      "\n",
      "Failure Type_Heat Dissipation Failure Classification Reports:\n",
      "              precision    recall  f1-score   support\n",
      "\n",
      "           0       0.99      1.00      1.00      1972\n",
      "           1       1.00      0.35      0.52        23\n",
      "\n",
      "    accuracy                           0.99      1995\n",
      "   macro avg       1.00      0.67      0.76      1995\n",
      "weighted avg       0.99      0.99      0.99      1995\n",
      "\n",
      "Failure Type_No Failure Classification Reports:\n",
      "              precision    recall  f1-score   support\n",
      "\n",
      "           0       0.87      0.58      0.69        59\n",
      "           1       0.99      1.00      0.99      1936\n",
      "\n",
      "    accuracy                           0.98      1995\n",
      "   macro avg       0.93      0.79      0.84      1995\n",
      "weighted avg       0.98      0.98      0.98      1995\n",
      "\n",
      "Failure Type_Overstrain Failure Classification Reports:\n",
      "              precision    recall  f1-score   support\n",
      "\n",
      "           0       1.00      1.00      1.00      1987\n",
      "           1       0.75      0.75      0.75         8\n",
      "\n",
      "    accuracy                           1.00      1995\n",
      "   macro avg       0.87      0.87      0.87      1995\n",
      "weighted avg       1.00      1.00      1.00      1995\n",
      "\n",
      "Failure Type_Power Failure Classification Reports:\n",
      "              precision    recall  f1-score   support\n",
      "\n",
      "           0       0.99      1.00      1.00      1972\n",
      "           1       1.00      0.57      0.72        23\n",
      "\n",
      "    accuracy                           0.99      1995\n",
      "   macro avg       1.00      0.78      0.86      1995\n",
      "weighted avg       1.00      0.99      0.99      1995\n",
      "\n",
      "Failure Type_Tool Wear Failure Classification Reports:\n",
      "              precision    recall  f1-score   support\n",
      "\n",
      "           0       1.00      1.00      1.00      1990\n",
      "           1       0.00      0.00      0.00         5\n",
      "\n",
      "    accuracy                           1.00      1995\n",
      "   macro avg       0.50      0.50      0.50      1995\n",
      "weighted avg       0.99      1.00      1.00      1995\n",
      "\n"
     ]
    }
   ],
   "source": [
    "print(\"Classification Reports :\\n\")\n",
    "for i, rep in enumerate(report):\n",
    "    target_name = y.columns[i]\n",
    "    print(f\"{target_name} Classification Reports:\\n{rep}\")\n"
   ]
  },
  {
   "cell_type": "markdown",
   "id": "9533ec29",
   "metadata": {},
   "source": [
    "### Conclusion\n",
    "\n",
    "In this project, we implemented a multi-output classification modek using Random Forest algorithm to predict machine predictive maintenance outcomes.\n",
    "\n",
    "#### Takeaways & Drawbacks\n",
    "Recognizing the imbalance in the dataset, the project demonstrated and emphasized the importance of using appropriate evaluation metrics like precision, recall & F1 score over accuracy score.\n",
    "\n",
    "The multi-output classifier showed promising results with balanced precision and recall for majority classes. However, the model exhibited reduced performance in predicting some of the minority classes, indicating a need for further improvement in handling data imbalance.\n",
    "\n",
    "#### Possible Improvements\n",
    "Future efforts could focus on hyperparameter tuning and explore other advanced algorithms like Gradient Boosting for potentially better performance\n",
    "\n",
    "Techniques like SMOTE or ensemble methods could be employed to further address data imbalance and improve minority class prediction."
   ]
  },
  {
   "cell_type": "code",
   "execution_count": null,
   "id": "8bdc2c0e",
   "metadata": {},
   "outputs": [],
   "source": []
  }
 ],
 "metadata": {
  "kernelspec": {
   "display_name": "Python 3 (ipykernel)",
   "language": "python",
   "name": "python3"
  },
  "language_info": {
   "codemirror_mode": {
    "name": "ipython",
    "version": 3
   },
   "file_extension": ".py",
   "mimetype": "text/x-python",
   "name": "python",
   "nbconvert_exporter": "python",
   "pygments_lexer": "ipython3",
   "version": "3.10.4"
  }
 },
 "nbformat": 4,
 "nbformat_minor": 5
}
